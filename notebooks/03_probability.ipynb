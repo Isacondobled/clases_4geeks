{
 "cells": [
  {
   "cell_type": "markdown",
   "id": "09efb148",
   "metadata": {},
   "source": [
    "## **03. Probablility** \n",
    "- Author: Addán Isaí Cruz Cruz\n",
    "- Date: 08/08/2025\n",
    "- Goal: Learn about probablilities, events and sets."
   ]
  },
  {
   "cell_type": "code",
   "execution_count": 2,
   "id": "f48d86cb",
   "metadata": {},
   "outputs": [],
   "source": [
    "#importando libs\n",
    "\n",
    "import numpy as np\n",
    "import matplotlib.pyplot as plt\n",
    "import pandas as pd\n",
    "import random #pseudoaleatorio\n",
    "from fractions import Fraction"
   ]
  },
  {
   "cell_type": "markdown",
   "id": "8d20f65b",
   "metadata": {},
   "source": [
    "## 1. ¿Cuál es la probabilidad de obtener un número impar en un lanzamiento de dados"
   ]
  },
  {
   "cell_type": "code",
   "execution_count": 10,
   "id": "bab54d79",
   "metadata": {},
   "outputs": [
    {
     "data": {
      "text/plain": [
       "Fraction(1, 2)"
      ]
     },
     "execution_count": 10,
     "metadata": {},
     "output_type": "execute_result"
    }
   ],
   "source": [
    "s = {1,2,3,4,5,6} #sample space\n",
    "e = {1,3,5} #event\n",
    "\n",
    "len(e)\n",
    "len(set.intersection(e, s))\n",
    "\n",
    "#La cardinalidad de la intersección del evento y el espacio muestra, entre la cardinalidad del espacio muestra\n",
    "\n",
    "Fraction(len(set.intersection(e, s)),len(s))"
   ]
  },
  {
   "cell_type": "markdown",
   "id": "d3922da8",
   "metadata": {},
   "source": [
    "## ¿Cuál es la probabilidad de obtener un número primo o un número par en un lanzamiento de dados?"
   ]
  },
  {
   "cell_type": "code",
   "execution_count": null,
   "id": "5b40d51d",
   "metadata": {},
   "outputs": [
    {
     "data": {
      "text/plain": [
       "Fraction(5, 6)"
      ]
     },
     "execution_count": 15,
     "metadata": {},
     "output_type": "execute_result"
    }
   ],
   "source": [
    "s = {1,2,3,4,5,6}\n",
    "e1 = {2,3,5}\n",
    "e2 = {2,4,6}\n",
    "\n",
    "e = set.union(e1,e2) #Cuando es o es con union\n",
    "\n",
    "c_n = len(set.intersection(e, s))\n",
    "c_d = len(s)\n",
    "\n",
    "Fraction(c_n, c_d)\n"
   ]
  },
  {
   "cell_type": "markdown",
   "id": "fc57a3d7",
   "metadata": {},
   "source": [
    "## ¿Cuál es la probabilidad de obtener un número par y primo en un lanzamiento e dado?"
   ]
  },
  {
   "cell_type": "code",
   "execution_count": 16,
   "id": "7a713cb4",
   "metadata": {},
   "outputs": [
    {
     "data": {
      "text/plain": [
       "Fraction(1, 6)"
      ]
     },
     "execution_count": 16,
     "metadata": {},
     "output_type": "execute_result"
    }
   ],
   "source": [
    "s = {1,2,3,4,5,6}\n",
    "e1 = {2,4,6}\n",
    "e2 = {2,3,5}\n",
    "\n",
    "e = set.intersection(e1, e2) #Cuando es Y entonces es interseccion \n",
    "\n",
    "c_n = len(set.intersection(e, s))\n",
    "c_d = len(s)\n",
    "Fraction(c_n, c_d)"
   ]
  },
  {
   "cell_type": "code",
   "execution_count": 17,
   "id": "9a5cfa78",
   "metadata": {},
   "outputs": [],
   "source": [
    "def Pr(event:set, space:set)->Fraction:\n",
    "    return Fraction(len(set.intersection(event, space)),len(space))"
   ]
  },
  {
   "cell_type": "code",
   "execution_count": 18,
   "id": "7b54af28",
   "metadata": {},
   "outputs": [
    {
     "data": {
      "text/plain": [
       "Fraction(1, 2)"
      ]
     },
     "execution_count": 18,
     "metadata": {},
     "output_type": "execute_result"
    }
   ],
   "source": [
    "Pr({2,4,6},{1,2,3,4,5,6})"
   ]
  },
  {
   "cell_type": "markdown",
   "id": "308cfd5a",
   "metadata": {},
   "source": [
    " 4. El método de montecarlo nos permite aproximar una probabilidad en base a la repetición continua de un evento. ¿Cuál es la probabilidad de obtener un numero par en un lanzamiento de dado?"
   ]
  },
  {
   "cell_type": "code",
   "execution_count": 27,
   "id": "7da41ec6",
   "metadata": {},
   "outputs": [],
   "source": [
    "events = [2,4,6]\n",
    "space = [1,2,3,4,5,6]\n",
    "frec = []\n",
    "trials = list(range(1,10000))\n",
    "\n",
    "for trial in trials:\n",
    "    total = 0\n",
    "    for i in range(trial):\n",
    "        if random.choice(space) in events:\n",
    "            total = total + 1\n",
    "    frec.append(total/trial)"
   ]
  },
  {
   "cell_type": "code",
   "execution_count": 28,
   "id": "3e0d50b9",
   "metadata": {},
   "outputs": [
    {
     "data": {
      "image/png": "[encoded data removed]",
      "text/plain": [
       "<Figure size 640x480 with 1 Axes>"
      ]
     },
     "metadata": {},
     "output_type": "display_data"
    }
   ],
   "source": [
    "plt.plot(trials, frec)\n",
    "plt.xlabel(\"Trials\")\n",
    "plt.ylabel(\"Relative frequence\")\n",
    "plt.axhline(y=0.5, color=\"tomato\")\n",
    "plt.grid(True)\n",
    "plt.show()"
   ]
  }
 ],
 "metadata": {
  "kernelspec": {
   "display_name": ".venv",
   "language": "python",
   "name": "python3"
  },
  "language_info": {
   "codemirror_mode": {
    "name": "ipython",
    "version": 3
   },
   "file_extension": ".py",
   "mimetype": "text/x-python",
   "name": "python",
   "nbconvert_exporter": "python",
   "pygments_lexer": "ipython3",
   "version": "3.12.1"
  }
 },
 "nbformat": 4,
 "nbformat_minor": 5
}
